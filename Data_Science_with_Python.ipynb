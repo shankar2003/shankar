{
  "nbformat": 4,
  "nbformat_minor": 0,
  "metadata": {
    "colab": {
      "provenance": [],
      "collapsed_sections": [
        "DOw44OybYriv"
      ],
      "include_colab_link": true
    },
    "kernelspec": {
      "name": "python3",
      "display_name": "Python 3"
    },
    "language_info": {
      "name": "python"
    }
  },
  "cells": [
    {
      "cell_type": "markdown",
      "metadata": {
        "id": "view-in-github",
        "colab_type": "text"
      },
      "source": [
        "<a href=\"https://colab.research.google.com/github/shankar2003/shankar/blob/master/Data_Science_with_Python.ipynb\" target=\"_parent\"><img src=\"https://colab.research.google.com/assets/colab-badge.svg\" alt=\"Open In Colab\"/></a>"
      ]
    },
    {
      "cell_type": "markdown",
      "source": [
        "### Dictionary"
      ],
      "metadata": {
        "id": "DOw44OybYriv"
      }
    },
    {
      "cell_type": "code",
      "source": [
        "#Dictionary\n",
        "\n",
        "# To create a dictionary\n",
        "d={'id':2687,'name':'Gowri Shankar','dept':'B&M'}\n"
      ],
      "metadata": {
        "id": "_tfqxAIMXbXJ"
      },
      "execution_count": 53,
      "outputs": []
    },
    {
      "cell_type": "code",
      "source": [
        "print(d) # to print dictionary\n",
        "print(d['id']) # to print the value available in the given key"
      ],
      "metadata": {
        "colab": {
          "base_uri": "https://localhost:8080/"
        },
        "id": "MuFckxaNXh6W",
        "outputId": "1aae5df8-c841-47b5-8085-536ab72f5026"
      },
      "execution_count": 55,
      "outputs": [
        {
          "output_type": "stream",
          "name": "stdout",
          "text": [
            "{'id': 2687, 'name': 'Gowri Shankar', 'dept': 'B&M'}\n",
            "2687\n"
          ]
        }
      ]
    },
    {
      "cell_type": "code",
      "source": [
        "print(type(d)) # to check the type\n",
        "print(len(d)) # to check the length"
      ],
      "metadata": {
        "id": "i77osLtZXom6"
      },
      "execution_count": null,
      "outputs": []
    },
    {
      "cell_type": "code",
      "source": [
        "d['salary']=650000 # to add new key with value\n",
        "d['dept']='Buying & Merchandising' # to replace the key value\n",
        "print(d)"
      ],
      "metadata": {
        "id": "2bvR7HmQX9c6"
      },
      "execution_count": null,
      "outputs": []
    },
    {
      "cell_type": "markdown",
      "source": [
        "### Methods in Dictionary\n",
        "##### Reference - https://www.w3schools.com/python/python_ref_dictionary.asp"
      ],
      "metadata": {
        "id": "PIZ4BCIAaLeq"
      }
    },
    {
      "cell_type": "code",
      "source": [
        "d={'id':2687,'name':'Gowri Shankar','dept':'B&M'}\n",
        "print(d)\n",
        "d.clear() # Clear method -Removes all the elements from the dictionary\n",
        "print(d)"
      ],
      "metadata": {
        "id": "KaJlCRDUkNdL"
      },
      "execution_count": null,
      "outputs": []
    },
    {
      "cell_type": "code",
      "source": [
        "d={'id':2687,'name':'Gowri Shankar','dept':'B&M'}\n",
        "print(d)\n",
        "d.popitem() # popitems method - Removes the last inserted key-value pair\n",
        "print(d)"
      ],
      "metadata": {
        "id": "qppblL1ffsh1"
      },
      "execution_count": null,
      "outputs": []
    },
    {
      "cell_type": "code",
      "source": [
        "d={'id':2687,'name':'Gowri Shankar','dept':'B&M'}\n",
        "print(d)\n",
        "d1=d.copy() #Copy Method - Returns a copy of the dictionary\n",
        "print(d1)"
      ],
      "metadata": {
        "id": "jeod9XMMajhg"
      },
      "execution_count": null,
      "outputs": []
    },
    {
      "cell_type": "code",
      "source": [
        "d2=('a','b','c')\n",
        "d3=1\n",
        "d4=dict.fromkeys(d2,d3) #Fromkey method - Returns a dictionary with the specified keys and value\n",
        "print(d4)"
      ],
      "metadata": {
        "id": "wGqDbuMXbTgJ"
      },
      "execution_count": null,
      "outputs": []
    },
    {
      "cell_type": "code",
      "source": [
        "d={'id':2687,'name':'Gowri Shankar','dept':'B&M'}\n",
        "print(d)\n",
        "d2=d.get('name') #Get method - Returns the value of the specified key\n",
        "print(d2)"
      ],
      "metadata": {
        "id": "HA8X9SF_bw8D"
      },
      "execution_count": null,
      "outputs": []
    },
    {
      "cell_type": "code",
      "source": [
        "d={'id':2687,'name':'Gowri Shankar','dept':'B&M'}\n",
        "print(d)\n",
        "d2=d.items() #items methods - Returns a list containing a tuple for each key value pair\n",
        "print(d2)"
      ],
      "metadata": {
        "colab": {
          "base_uri": "https://localhost:8080/"
        },
        "id": "ZWo03fSAcOnP",
        "outputId": "201daa73-b1fe-49cf-dc2e-56504e3b4b8b"
      },
      "execution_count": null,
      "outputs": [
        {
          "output_type": "stream",
          "name": "stdout",
          "text": [
            "{'id': 2687, 'name': 'Gowri Shankar', 'dept': 'B&M'}\n",
            "dict_items([('id', 2687), ('name', 'Gowri Shankar'), ('dept', 'B&M')])\n"
          ]
        }
      ]
    },
    {
      "cell_type": "code",
      "source": [
        "d={'id':2687,'name':'Gowri Shankar','dept':'B&M'}\n",
        "print(d)\n",
        "d.pop('name') #pop method - Removes the element with the specified key\n",
        "print(d)"
      ],
      "metadata": {
        "id": "BjjH_3u1dIx3"
      },
      "execution_count": null,
      "outputs": []
    },
    {
      "cell_type": "code",
      "source": [
        "d={'id':2687,'name':'Gowri Shankar','dept':'B&M'}\n",
        "print(d)\n",
        "d.keys() #key method - Returns a list containing the dictionary's keys"
      ],
      "metadata": {
        "id": "nN0x5jy_dhe-"
      },
      "execution_count": null,
      "outputs": []
    },
    {
      "cell_type": "code",
      "source": [
        "d={'id':2687,'name':'Gowri Shankar','dept':'B&M'}\n",
        "print(d)\n",
        "d.values() # values method - Returns a list of all the values in the dictionary"
      ],
      "metadata": {
        "id": "ab9b5dN-fQEB"
      },
      "execution_count": null,
      "outputs": []
    },
    {
      "cell_type": "code",
      "source": [
        "d={'id':2687,'name':'Gowri Shankar','dept':'B&M'}\n",
        "print(d)\n",
        "d2=d.setdefault('name','Shankar') # setdefault method - Returns the value of the specified key. If the key does not exist: insert the key, with the specified value\n",
        "print(d2)"
      ],
      "metadata": {
        "id": "eWgwL-zogm-5"
      },
      "execution_count": null,
      "outputs": []
    },
    {
      "cell_type": "code",
      "source": [
        "d={'id':2687,'name':'Gowri Shankar','dept':'B&M'}\n",
        "print(d)\n",
        "d.update({'salary':650000,'Location':'Bangalore'})\n",
        "print(d)"
      ],
      "metadata": {
        "id": "Q08p_h8Zh6vn"
      },
      "execution_count": null,
      "outputs": []
    },
    {
      "cell_type": "markdown",
      "source": [
        "### Membership Operator"
      ],
      "metadata": {
        "id": "SewspDuYjwc0"
      }
    },
    {
      "cell_type": "code",
      "source": [
        "#membership operator\n",
        "print('id' in d)\n",
        "print('second name' in d)\n",
        "print('id'  not in d)\n",
        "print('second name' not in d)"
      ],
      "metadata": {
        "id": "vUjtA3uej1zy"
      },
      "execution_count": null,
      "outputs": []
    },
    {
      "cell_type": "markdown",
      "source": [
        "### Conditional Operator"
      ],
      "metadata": {
        "id": "f7XzyK0mkbZM"
      }
    },
    {
      "cell_type": "code",
      "source": [
        "age=int(input(\"enter the age: \"))\n",
        "if age>=18:\n",
        "  print('eligible')\n",
        "else:\n",
        "  print('not eligible')"
      ],
      "metadata": {
        "id": "WAnSfycdj3uw"
      },
      "execution_count": null,
      "outputs": []
    }
  ]
}